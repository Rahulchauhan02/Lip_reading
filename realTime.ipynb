{
 "cells": [
  {
   "cell_type": "code",
   "execution_count": 1,
   "metadata": {},
   "outputs": [],
   "source": [
    "import numpy as np\n",
    "import pandas as pd\n",
    "import matplotlib.pyplot as plt\n",
    "import tensorflow as tf\n",
    "import dlib\n",
    "import cv2\n",
    "import os\n",
    "%matplotlib inline"
   ]
  },
  {
   "cell_type": "code",
   "execution_count": 2,
   "metadata": {},
   "outputs": [],
   "source": [
    "classes = ['chandrma', 'dhakshin dhruv', 'viganik']"
   ]
  },
  {
   "cell_type": "code",
   "execution_count": 3,
   "metadata": {},
   "outputs": [],
   "source": [
    "model = tf.keras.models.load_model('current model1')"
   ]
  },
  {
   "cell_type": "code",
   "execution_count": 4,
   "metadata": {},
   "outputs": [],
   "source": [
    "path_of_shape_predictor = 'D:\\\\mtech\\\\implementation\\\\dlib_model\\\\shape_predictor_68_face_landmarks_GTX.dat'\n",
    "\n",
    "predictor = dlib.shape_predictor(path_of_shape_predictor)\n",
    "detector = dlib.get_frontal_face_detector()\n"
   ]
  },
  {
   "cell_type": "code",
   "execution_count": 6,
   "metadata": {},
   "outputs": [
    {
     "name": "stdout",
     "output_type": "stream",
     "text": [
      "1/1 [==============================] - 0s 91ms/step\n",
      "1/1 [==============================] - 0s 86ms/step\n"
     ]
    }
   ],
   "source": [
    "cap = cv2.VideoCapture('D:\\\\mtech\\\\implementation\\\\hindi_3_word_dataset\\\\chandrma\\\\01.mp4')\n",
    "seq = []\n",
    "while True:\n",
    "    ret,frame = cap.read()\n",
    "    if not ret:\n",
    "        break\n",
    "    resized = cv2.resize(frame,(256,512))\n",
    "    gray = cv2.cvtColor(resized,cv2.COLOR_BGR2GRAY)\n",
    "    results = detector(gray)\n",
    "    for face in results:\n",
    "        landmarks = predictor(gray, face)\n",
    "        lips_points = []\n",
    "        for i in range(48, 68):  \n",
    "            x, y = landmarks.part(i).x, landmarks.part(i).y\n",
    "            lips_points.append((x, y))\n",
    "        x, y, w, h = cv2.boundingRect(np.array(lips_points))\n",
    "        cv2.rectangle(gray, (x, y), (x + w, y + h), (0, 255, 0), 2)\n",
    "        cropped = resized[y:y+h,x:x+w]\n",
    "        seq.append(cv2.resize(cropped,(128,64)))\n",
    "        seq = seq[-30:]\n",
    "        if len(seq)== 30:\n",
    "            prediction = model.predict(np.expand_dims(seq,axis=0))\n",
    "            if prediction[0][np.argmax(prediction)]>0.8:\n",
    "                text = classes[np.argmax(model.predict(np.expand_dims(seq,axis=0)))]\n",
    "                position = (10, 50)  \n",
    "                font = cv2.FONT_HERSHEY_SIMPLEX\n",
    "                font_scale = 1\n",
    "                font_color = (0, 255, 0) \n",
    "                font_thickness = 2\n",
    "                cv2.putText(gray, text, position, font, font_scale, font_color, font_thickness)\n",
    "        cv2.imshow(\"video\",gray)\n",
    "\n",
    "    if cv2.waitKey(150)&0XFF == ord('q'):\n",
    "        break\n",
    "cap.release()\n",
    "cv2.destroyAllWindows()     "
   ]
  }
 ],
 "metadata": {
  "kernelspec": {
   "display_name": "Python 3",
   "language": "python",
   "name": "python3"
  },
  "language_info": {
   "codemirror_mode": {
    "name": "ipython",
    "version": 3
   },
   "file_extension": ".py",
   "mimetype": "text/x-python",
   "name": "python",
   "nbconvert_exporter": "python",
   "pygments_lexer": "ipython3",
   "version": "3.9.0"
  }
 },
 "nbformat": 4,
 "nbformat_minor": 2
}
